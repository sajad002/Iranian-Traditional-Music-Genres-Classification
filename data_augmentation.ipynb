{
  "cells": [
    {
      "cell_type": "markdown",
      "source": [
        "# google drive"
      ],
      "metadata": {
        "id": "3FaeVh-WCii2"
      }
    },
    {
      "cell_type": "code",
      "execution_count": null,
      "metadata": {
        "colab": {
          "base_uri": "https://localhost:8080/"
        },
        "id": "O8WXVvqYccX_",
        "outputId": "45244e7b-b5c3-440c-dbd3-aca0a3b39c38"
      },
      "outputs": [
        {
          "output_type": "stream",
          "name": "stdout",
          "text": [
            "Drive already mounted at /content/drive; to attempt to forcibly remount, call drive.mount(\"/content/drive\", force_remount=True).\n"
          ]
        }
      ],
      "source": [
        "from google.colab import drive\n",
        "drive.mount('/content/drive')"
      ]
    },
    {
      "cell_type": "markdown",
      "metadata": {
        "id": "cMlH6sRmn0mZ"
      },
      "source": [
        "# Installation & imports"
      ]
    },
    {
      "cell_type": "code",
      "execution_count": null,
      "metadata": {
        "colab": {
          "base_uri": "https://localhost:8080/"
        },
        "id": "FKaTi3qRQZnf",
        "outputId": "89755f91-cb34-423e-a526-d67424b55c0d"
      },
      "outputs": [
        {
          "output_type": "stream",
          "name": "stdout",
          "text": [
            "Requirement already satisfied: pydub in /usr/local/lib/python3.10/dist-packages (0.25.1)\n"
          ]
        }
      ],
      "source": [
        "%pip install pydub"
      ]
    },
    {
      "cell_type": "code",
      "execution_count": null,
      "metadata": {
        "id": "KxTODY25Mbt-"
      },
      "outputs": [],
      "source": [
        "import os\n",
        "import librosa\n",
        "from pydub import AudioSegment\n",
        "import numpy as np\n",
        "import scipy.signal\n",
        "import shutil\n",
        "import pickle\n",
        "from pydub import AudioSegment\n",
        "from sklearn.preprocessing import LabelEncoder\n",
        "from sklearn.model_selection import train_test_split\n",
        "from sklearn.svm import SVC\n",
        "import matplotlib.pyplot as plt\n",
        "from tensorflow.keras.utils import to_categorical"
      ]
    },
    {
      "cell_type": "markdown",
      "metadata": {
        "id": "2aNjd2pL1jl_"
      },
      "source": [
        "# cleaning old windows"
      ]
    },
    {
      "cell_type": "code",
      "execution_count": null,
      "metadata": {
        "id": "G8xRnoYGzOXm"
      },
      "outputs": [],
      "source": [
        "def create_directory(output_directory):\n",
        "  # Create the output directory if it doesn't exist\n",
        "  if not os.path.exists(output_directory):\n",
        "      os.makedirs(output_directory)\n",
        "      for folder_name in folder_names:\n",
        "        folder_path = os.path.join(output_directory, folder_name)\n",
        "        os.makedirs(folder_path)\n",
        "  # else:\n",
        "  #     shutil.rmtree(output_directory)\n",
        "  #     os.makedirs(output_directory)\n",
        "  #     for folder_name in folder_names:\n",
        "  #       folder_path = os.path.join(output_directory, folder_name)\n",
        "  #       os.makedirs(folder_path)\n",
        "\n"
      ]
    },
    {
      "cell_type": "markdown",
      "metadata": {
        "id": "JCjoBoPYXnP2"
      },
      "source": [
        "# saving dataset as pickle"
      ]
    },
    {
      "cell_type": "code",
      "execution_count": null,
      "metadata": {
        "id": "2QjcqEOqX1Du"
      },
      "outputs": [],
      "source": [
        "def save_as_pickle(X_train, X_test, y_train, y_test, Y_data,\n",
        "                   dataset_number, readme_file_path):\n",
        "  pickle_dis = f\"drive/MyDrive/DDEMS Lab/pickle_dataset/output{dataset_number}\"\n",
        "  # Create a folder to store the pickle files\n",
        "  if not os.path.exists(pickle_dis):\n",
        "      os.makedirs(pickle_dis)\n",
        "\n",
        "  # Save X_train, X_test, y_train, y_test to pickle files in the data_folder\n",
        "  with open(pickle_dis + '/X_train.pkl', 'wb') as f:\n",
        "      pickle.dump(X_train, f)\n",
        "\n",
        "  with open(pickle_dis + '/X_test.pkl', 'wb') as f:\n",
        "      pickle.dump(X_test, f)\n",
        "\n",
        "  with open(pickle_dis + '/y_train.pkl', 'wb') as f:\n",
        "      pickle.dump(y_train, f)\n",
        "\n",
        "  with open(pickle_dis + '/y_test.pkl', 'wb') as f:\n",
        "      pickle.dump(y_test, f)\n",
        "\n",
        "  with open(pickle_dis + '/Y_data.pkl', 'wb') as f:\n",
        "      pickle.dump(Y_data, f)\n",
        "\n",
        "  # Make a copy of the file : shutil.copy(source,destination)\n",
        "  shutil.copy(readme_file_path, os.path.join(pickle_dis, 'README.md'))"
      ]
    },
    {
      "cell_type": "markdown",
      "metadata": {
        "id": "o6unJ2rLOYJd"
      },
      "source": [
        "# extracting windows"
      ]
    },
    {
      "cell_type": "code",
      "execution_count": null,
      "metadata": {
        "id": "HjFiwKLor54k"
      },
      "outputs": [],
      "source": [
        "def get_windows(window_duration = 3,    # Duration of each window in seconds\n",
        "                overlap = 0,            # Amount of overlap between consecutive windows in seconds\n",
        "                desired_sr = 22050,     # Set the desired sample rate (e.g., 22050 Hz)\n",
        "                music_directories_list = ['drive/MyDrive/DDEMS Lab/Persian-Radif-Tar-Setar/cleaned/Setar-Hossein Alizzadeh-Mirza Abdullah',\n",
        "                                          'drive/MyDrive/DDEMS Lab/Persian-Radif-Tar-Setar/cleaned/Tar-Arshad Tahmasebi-Mahmoud Karimi',\n",
        "                                          'drive/MyDrive/DDEMS Lab/Persian-Radif-Tar-Setar/cleaned/Tar-Hossein Alizzadeh-Mirza Abdullah',\n",
        "                                          ],\n",
        "                dataset_number = \"20\", save_as_mp3=False\n",
        "                ):\n",
        "\n",
        "  pickle_dis = f\"drive/MyDrive/DDEMS Lab/pickle_dataset/output{dataset_number}\"\n",
        "\n",
        "  create_directory(output_directory)\n",
        "\n",
        "  X_data =[]\n",
        "  Y_data =[]\n",
        "  all_mp3_files = []\n",
        "  window_counter = 0\n",
        "  window_counter_temp = 0\n",
        "  window_extracted_each = []\n",
        "  gener_list_each = []\n",
        "\n",
        "  for music_directory in music_directories_list:\n",
        "    # Iterate over each folder in the music_directory\n",
        "    number_files_in_album = 0\n",
        "    print(music_directory)\n",
        "    gener_list_each.append(os.listdir(music_directory))\n",
        "    for foldername in os.listdir(music_directory):\n",
        "\n",
        "        # if not foldername.endswith(\"output\"):\n",
        "        print(foldername)\n",
        "        # Create the path to the current folder\n",
        "        folder_path = os.path.join(music_directory, foldername)\n",
        "\n",
        "        # Check if the current path is a directory\n",
        "        if os.path.isdir(folder_path):\n",
        "            # Create the output directory for the current folder\n",
        "            avaz_dastgah = foldername\n",
        "            output_directory_ = os.path.join(output_directory, avaz_dastgah)\n",
        "\n",
        "            # Iterate over each file in the current folder\n",
        "            for filename in os.listdir(folder_path):\n",
        "\n",
        "                if filename.endswith('.mp3'):\n",
        "                    number_files_in_album += 1\n",
        "                    print(\"     -\", filename)\n",
        "                    filepath = os.path.join(folder_path, filename)\n",
        "                    audio = AudioSegment.from_mp3(filepath)\n",
        "\n",
        "                    # Convert audio to mono if it's in stereo\n",
        "                    if audio.channels > 1:\n",
        "                        audio = audio.set_channels(1)\n",
        "\n",
        "                    # Resample the audio if necessary\n",
        "                    if audio.frame_rate != desired_sr:\n",
        "                        audio = audio.set_frame_rate(desired_sr)\n",
        "\n",
        "                    # Convert the audio to a numpy array\n",
        "                    audio_array = np.array(audio.get_array_of_samples())\n",
        "\n",
        "                    # Calculate the number of samples for each window\n",
        "                    window_size = int(window_duration * desired_sr)\n",
        "                    hop_length = int((window_duration - overlap) * desired_sr)\n",
        "\n",
        "                    # Extract windows from the audio\n",
        "                    for i in range(0, len(audio_array) - window_size + 1, hop_length):\n",
        "\n",
        "                        window = audio_array[i:i+window_size]\n",
        "                        X_data.append(window)\n",
        "                        Y_data.append(avaz_dastgah)\n",
        "                        window_counter +=1\n",
        "\n",
        "                        if save_as_mp3:\n",
        "                          window_audio = AudioSegment(window.tobytes(), frame_rate=desired_sr, sample_width=2, channels=1)\n",
        "\n",
        "                          # output_filename = f'window_{filename}_{i}_{i+window_size}_{avaz_dastgah}.mp3'\n",
        "                          output_filename = f'window{window_counter}_{avaz_dastgah}.mp3'\n",
        "\n",
        "                          output_path = os.path.join(output_directory_, output_filename)\n",
        "                          window_audio.export(output_path, format='mp3')\n",
        "\n",
        "    print(\"number of mp3 files : \", number_files_in_album)\n",
        "    print(\"window size : \", window_duration, \"overlap : \", overlap)\n",
        "    print(\"number of windows extracted : \", window_counter - window_counter_temp)\n",
        "    window_extracted_each.append(window_counter - window_counter_temp)\n",
        "    window_counter_temp = window_counter\n",
        "    all_mp3_files.append(number_files_in_album)\n",
        "\n",
        "\n",
        "  # Create the content for the README file\n",
        "  content = f\"# data augmentation Details\\n\"\n",
        "  content += \"----------------------------------------------------------------\\n\"\n",
        "  content += f\"window size   : {window_duration}\\n\"\n",
        "  content += f\"overlap       : {overlap}\\n\"\n",
        "  content += f\"sampling rate : {desired_sr}\\n\"\n",
        "  content += \"----------------------------------------------------------------\\n\"\n",
        "  content += f\"geners ({len(folder_names)}): \\n{folder_names}\\n\"\n",
        "  content += f\"number of all mp3 files         : {str(sum(all_mp3_files))}\\n\"\n",
        "  content += f\"number of all windows extracted : {str(sum(window_extracted_each))}\\n\"\n",
        "  content += \"----------------------------------------------------------------\\n\"\n",
        "  for i, album in enumerate(music_directories_list):\n",
        "    parts = album.split('/')\n",
        "    # Get the last part of the string\n",
        "    last_part = parts[-1]\n",
        "    content += f\"album : {last_part}\\n\"\n",
        "    content += f\"genres in album ({len(gener_list_each[i])}): \\n{gener_list_each[i]}\\n\"\n",
        "    content += f\"number of mp3 files in album           : {str(all_mp3_files[i])}\\n\"\n",
        "    content += f\"number of windows extracted from album : {str(window_extracted_each[i])}\\n\"\n",
        "    content += \"----------------------------------------------------------------\\n\"\n",
        "\n",
        "  # Path to the directory where the README file will be created\n",
        "  readme_file_path = os.path.join(output_directory, 'README.md')\n",
        "\n",
        "  # Write the content to the README file\n",
        "  with open(readme_file_path, 'w') as file:\n",
        "      file.write(content)\n",
        "\n",
        "  print(\"README file created successfully!\")\n",
        "  del all_mp3_files, window_extracted_each, gener_list_each, content\n",
        "\n",
        "  # Convert X and y to numpy arrays\n",
        "  X_data = np.array(X_data)\n",
        "  Y_data = np.array(Y_data)\n",
        "\n",
        "  # Perform label encoding on the target labels\n",
        "  label_encoder = LabelEncoder()\n",
        "  y_encoded = label_encoder.fit_transform(Y_data)\n",
        "\n",
        "  # Split the data into train and test sets\n",
        "  X_train, X_test, y_train, y_test = train_test_split(X_data, y_encoded, test_size=0.2, random_state=42)\n",
        "  del X_data, y_encoded\n",
        "\n",
        "  #save dataset as pickle\n",
        "  save_as_pickle(X_train, X_test, y_train, y_test, Y_data,\n",
        "                 dataset_number, readme_file_path)\n",
        "\n",
        "  return X_train, X_test, y_train, y_test, Y_data"
      ]
    },
    {
      "cell_type": "markdown",
      "metadata": {
        "id": "5yxAseWbnKTT"
      },
      "source": [
        "# check the augmented files"
      ]
    },
    {
      "cell_type": "code",
      "execution_count": null,
      "metadata": {
        "id": "ClGP7qCyTZ_w"
      },
      "outputs": [],
      "source": [
        "def check_augmented(output_directory):\n",
        "  # Specify the path to the directory you want to count files in\n",
        "  path = output_directory\n",
        "\n",
        "  # Get a list of directories in the specified path\n",
        "  directories = [name for name in os.listdir(path) if os.path.isdir(os.path.join(path, name))]\n",
        "\n",
        "  # Loop through each directory and count the number of files\n",
        "  count = 0\n",
        "  for directory in directories:\n",
        "      dir_path = os.path.join(path, directory)\n",
        "      files_count = sum(1 for file in os.listdir(dir_path) if os.path.isfile(os.path.join(dir_path, file)))\n",
        "      print(f\"Number of files in {directory}: {files_count}\")\n",
        "      count += files_count\n",
        "  print(\"counft : \", count)"
      ]
    },
    {
      "cell_type": "markdown",
      "metadata": {
        "id": "FNa3rKISoiWv"
      },
      "source": [
        "# loading data from mp3 and train-test-split"
      ]
    },
    {
      "cell_type": "code",
      "execution_count": null,
      "metadata": {
        "id": "vusv1NENojB0"
      },
      "outputs": [],
      "source": [
        "def load_mp3_windows_train_test(output_directory):\n",
        "\n",
        "  # Set the directory path containing your windowed audio files\n",
        "  window_directory = output_directory\n",
        "\n",
        "  # Load the audio files and convert them to numpy arrays\n",
        "  X = []\n",
        "  y = []\n",
        "  test = []\n",
        "  # Loop through each folder in the directory\n",
        "  for folder_name in os.listdir(window_directory):\n",
        "      folder_path = os.path.join(window_directory, folder_name)\n",
        "      if os.path.isdir(folder_path):\n",
        "          # Loop through each windowed audio file in the folder\n",
        "          for filename in os.listdir(folder_path):\n",
        "              if filename.endswith('.mp3'):\n",
        "                  # Load the audio file\n",
        "                  filepath = os.path.join(folder_path, filename)\n",
        "                  audio = AudioSegment.from_mp3(filepath)\n",
        "                  # test.append(audio)\n",
        "                  # Convert the audio to a numpy array\n",
        "                  audio_array = np.array(audio.get_array_of_samples())\n",
        "\n",
        "                  # Append the audio array to X\n",
        "                  X.append(audio_array)\n",
        "\n",
        "                  # Extract the label from the folder name\n",
        "                  label = folder_name\n",
        "                  y.append(label)\n",
        "\n",
        "  # Convert X and y to numpy arrays\n",
        "  X = np.array(X)\n",
        "  y = np.array(y)\n",
        "\n",
        "  # Perform label encoding on the target labels\n",
        "  label_encoder = LabelEncoder()\n",
        "  y_encoded = label_encoder.fit_transform(y)\n",
        "\n",
        "  # Split the data into train and test sets\n",
        "  X_train, X_test, y_train, y_test = train_test_split(X, y_encoded, test_size=0.2, random_state=42)\n",
        "\n",
        "  return X_train, X_test, y_train, y_test"
      ]
    },
    {
      "cell_type": "markdown",
      "metadata": {
        "id": "R649HQrBQPIn"
      },
      "source": [
        "# plot number of each class"
      ]
    },
    {
      "cell_type": "code",
      "execution_count": null,
      "metadata": {
        "id": "eKdMyNUvQKKW"
      },
      "outputs": [],
      "source": [
        "# print((np.unique(y_train, return_counts=True))[0], '\\n', (np.unique(y_train, return_counts=True))[1])\n",
        "# plt.bar(range(13), (np.unique(y_train, return_counts=True))[1])"
      ]
    },
    {
      "cell_type": "code",
      "execution_count": null,
      "metadata": {
        "id": "Shk_CV4gRQ9L"
      },
      "outputs": [],
      "source": [
        "# print((np.unique(y_test, return_counts=True))[0], '\\n', (np.unique(y_test, return_counts=True))[1])\n",
        "# plt.bar(range(13), (np.unique(y_test, return_counts=True))[1])"
      ]
    },
    {
      "cell_type": "markdown",
      "metadata": {
        "id": "5UXTF1JdW9z1"
      },
      "source": [
        "# Mel-frequency cepstrum"
      ]
    },
    {
      "cell_type": "markdown",
      "metadata": {
        "id": "VA7-r35nWfi0"
      },
      "source": [
        "## loading pickle files"
      ]
    },
    {
      "cell_type": "code",
      "execution_count": null,
      "metadata": {
        "id": "q2Q8Jox_We0-"
      },
      "outputs": [],
      "source": [
        "def load_pickle(dataset_number):\n",
        "  pickle_dis = f\"drive/MyDrive/DDEMS Lab/pickle_dataset/output{dataset_number}\"\n",
        "\n",
        "  # Load X_train, X_test, y_train, y_test from pickle files\n",
        "  with open(pickle_dis + '/X_train.pkl', 'rb') as f:\n",
        "      X_train = pickle.load(f)\n",
        "\n",
        "  with open(pickle_dis + '/X_test.pkl', 'rb') as f:\n",
        "      X_test = pickle.load(f)\n",
        "\n",
        "  with open(pickle_dis + '/y_train.pkl', 'rb') as f:\n",
        "      y_train = pickle.load(f)\n",
        "\n",
        "  with open(pickle_dis + '/y_test.pkl', 'rb') as f:\n",
        "      y_test = pickle.load(f)\n",
        "\n",
        "  file_path = os.path.join(pickle_dis, \"Y_data.pkl\")\n",
        "  if not os.path.exists(pickle_dis):\n",
        "      concatenated_array = np.concatenate((y_train, y_test), axis=0)\n",
        "      Y_data = concatenated_array\n",
        "  else:\n",
        "      with open(pickle_dis + '/Y_data.pkl', 'rb') as f:\n",
        "        Y_data = pickle.load(f)\n",
        "\n",
        "  print(X_train.shape, X_test.shape, y_train.shape, y_test.shape, Y_data.shape)\n",
        "  return X_train, X_test, y_train, y_test, Y_data"
      ]
    },
    {
      "cell_type": "markdown",
      "metadata": {
        "id": "3__FSa-sSfHt"
      },
      "source": [
        "# convert audio (numpy array) to mfccs\n"
      ]
    },
    {
      "cell_type": "markdown",
      "source": [
        "### Mel-frequency cepstrum\n",
        "In sound processing, the mel-frequency cepstrum (MFC) is a representation of the short-term power spectrum of a sound, based on a linear cosine transform of a log power spectrum on a nonlinear mel scale of frequency.\n"
      ],
      "metadata": {
        "id": "mihm3B0RHVXJ"
      }
    },
    {
      "cell_type": "code",
      "execution_count": null,
      "metadata": {
        "id": "KuCQSfzYSg-l"
      },
      "outputs": [],
      "source": [
        "def audio2mfccs(audio_data, sample_rate = 22050):\n",
        "\n",
        "  # Number of MFCCs to compute\n",
        "  num_mfccs = 13\n",
        "  audio_data_float = audio_data.astype(np.float32)\n",
        "  # List to store the MFCCs of each audio sample\n",
        "  mfccs_list = []\n",
        "\n",
        "  # Compute MFCCs for each audio sample in the dataset\n",
        "  for audio_sample in audio_data_float:\n",
        "      # Compute the MFCCs using librosa\n",
        "      mfccs = librosa.feature.mfcc(y=audio_sample, sr=sample_rate, n_mfcc=num_mfccs)\n",
        "\n",
        "      # Append the MFCCs to the list\n",
        "      mfccs_list.append(mfccs)\n",
        "\n",
        "  # Convert the list of MFCCs to a numpy array\n",
        "  mfccs_array = np.array(mfccs_list)\n",
        "\n",
        "  # Print the shape of the MFCCs array\n",
        "  print(\"Shape of MFCCs array:\", mfccs_array.shape)\n",
        "\n",
        "  return mfccs_array"
      ]
    },
    {
      "cell_type": "markdown",
      "source": [
        "# plot MFCC"
      ],
      "metadata": {
        "id": "8O1mkl2yTF5p"
      }
    },
    {
      "cell_type": "code",
      "source": [
        "def plot_MFCC(data):\n",
        "  # Example: Plot the MFCCs of the first audio sample\n",
        "  plt.figure(figsize=(10, 4))\n",
        "  librosa.display.specshow(data[0], x_axis='time')\n",
        "  plt.colorbar()\n",
        "  plt.title('MFCCs of Audio Sample 0')\n",
        "  plt.xlabel('Time')\n",
        "  plt.ylabel('MFCC Coefficients')\n",
        "  plt.show()"
      ],
      "metadata": {
        "id": "UvgYOEYXTFWZ"
      },
      "execution_count": null,
      "outputs": []
    },
    {
      "cell_type": "markdown",
      "metadata": {
        "id": "Na8rrv09UAOw"
      },
      "source": [
        "# reshape input data"
      ]
    },
    {
      "cell_type": "code",
      "execution_count": null,
      "metadata": {
        "id": "DAOv2YpyUDLH"
      },
      "outputs": [],
      "source": [
        "def reshape_input(X_train_mfccs, X_test_mfccs):\n",
        "  X_train_mfcc_reshaped = X_train_mfccs.reshape(X_train_mfccs.shape[0],\n",
        "                                                X_train_mfccs.shape[1],\n",
        "                                                X_train_mfccs.shape[2],\n",
        "                                                1)\n",
        "\n",
        "  X_test_mfcc_reshaped = X_test_mfccs.reshape(X_test_mfccs.shape[0],\n",
        "                                              X_test_mfccs.shape[1],\n",
        "                                              X_test_mfccs.shape[2],\n",
        "                                              1)\n",
        "\n",
        "  print(X_train_mfccs.shape , \"reshaped input: \", X_train_mfcc_reshaped.shape)\n",
        "  print(X_test_mfccs.shape ,  \"reshaped input: \", X_test_mfcc_reshaped.shape)\n",
        "  return X_train_mfcc_reshaped, X_test_mfcc_reshaped"
      ]
    },
    {
      "cell_type": "markdown",
      "metadata": {
        "id": "n4OPLoaUUHIa"
      },
      "source": [
        "The shape (2605, 13, 431) from librosa.feature.mfcc output means that you have\n",
        "- 2605 audio samples\n",
        "- 13 MFCC coefficients\n",
        "- 431 frames in each audio sample.\n",
        "\n",
        "The number 431 represents the **number of frames or time steps in the MFCCs**. The number of frames depends on :\n",
        "- the size of the audio sample\n",
        "- the window size\n",
        "- the hop length used during the computation of the MFCCs.\n",
        "\n",
        "Here's how the number of frames is calculated:\n",
        "\n",
        "1. Calculate the duration of your audio samples in seconds. Since you have a window of 10 seconds and a sample rate of 22050 Hz, the number of samples in each audio sample would be 10 * 22050 = 220500.\n",
        "\n",
        "2. To compute the number of frames in the MFCCs, you need to divide the number of audio samples by the hop length used in librosa.feature.mfcc. The hop length determines how much the sliding window advances at each step. The default value for hop_length in librosa.feature.mfcc is hop_length=512.\n",
        "\n",
        "- Number of frames = (Number of samples - MFCC window size) / Hop length + 1\n",
        "- Number of frames = (220500 - window_size) / 512 + 1\n",
        "- Number of frames = (220500 - (sample_rate * window_duration)) / 512 + 1\n",
        "\n",
        "You can use the n_fft and hop_length parameters in librosa.feature.mfcc to control the number of frames and the hop length. If you want to have a specific number of frames, you can adjust these parameters accordingly.\n",
        "\n",
        "Keep in mind that the number of frames in the MFCCs depends on the audio sample's duration, the MFCC window size, and the hop length, which can vary for different applications."
      ]
    },
    {
      "cell_type": "markdown",
      "metadata": {
        "id": "g0RAkJxMUNHN"
      },
      "source": [
        "# reshape output labels (bcs of cross entropy)"
      ]
    },
    {
      "cell_type": "code",
      "execution_count": null,
      "metadata": {
        "id": "PYaZnxbhURNi"
      },
      "outputs": [],
      "source": [
        "def do_1hot_output(y_train, y_test):\n",
        "  print(y_train.shape, y_test.shape)\n",
        "  # Convert integer labels to one-hot encoded labels\n",
        "  num_classes = 13  # Number of classes\n",
        "  y_train_1hot = to_categorical(y_train, num_classes=num_classes)\n",
        "  y_test_1hot = to_categorical(y_test, num_classes=num_classes)\n",
        "  print(\"reshaped output: \",)\n",
        "  print(y_train_1hot.shape, y_test_1hot.shape)\n",
        "  return y_train_1hot, y_test_1hot"
      ]
    },
    {
      "cell_type": "markdown",
      "metadata": {
        "id": "XCDB5PT6VKnK"
      },
      "source": [
        "# saving filterd dataset as pickle"
      ]
    },
    {
      "cell_type": "code",
      "execution_count": null,
      "metadata": {
        "id": "KsYKdAuwUiHk"
      },
      "outputs": [],
      "source": [
        "def save_filterd_as_pickle(X_train_mfcc_reshaped, X_test_mfcc_reshaped,\n",
        "                           y_train_1hot, y_test_1hot,\n",
        "                           dataset_number, window_duration, overlap\n",
        "                           ):\n",
        "\n",
        "  pickle_dis = f\"drive/MyDrive/DDEMS Lab/pickle_dataset/output{dataset_number}/filterd\"\n",
        "\n",
        "  # Create a folder to store the pickle files\n",
        "  if not os.path.exists(pickle_dis):\n",
        "      os.makedirs(pickle_dis)\n",
        "\n",
        "  # Assuming you have X_train, X_test, y_train, y_test as numpy arrays\n",
        "\n",
        "  # Save X_train, X_test, y_train, y_test to pickle files in the data_folder\n",
        "  with open(pickle_dis + '/X_train_filterd.pkl', 'wb') as f:\n",
        "      pickle.dump(X_train_mfcc_reshaped, f)\n",
        "\n",
        "  with open(pickle_dis + '/X_test_filterd.pkl', 'wb') as f:\n",
        "      pickle.dump(X_test_mfcc_reshaped, f)\n",
        "\n",
        "  with open(pickle_dis + '/y_train_1hot.pkl', 'wb') as f:\n",
        "      pickle.dump(y_train_1hot, f)\n",
        "\n",
        "  with open(pickle_dis + '/y_test_1hot.pkl', 'wb') as f:\n",
        "      pickle.dump(y_test_1hot, f)\n",
        "\n",
        "\n",
        "  # Specify the path to the README-DATASETS.txt file\n",
        "  readme_file_path = f\"drive/MyDrive/DDEMS Lab/pickle_dataset/README-DATASETS.txt\"\n",
        "\n",
        "  # Strings to add to the README-DATASETS.txt file\n",
        "  additional_content = f\"\"\"----------------------\n",
        "  {dataset_number}\n",
        "  window size   : {window_duration}\n",
        "  overlap       : {overlap}\"\"\"\n",
        "\n",
        "  # Read the existing content of the README-DATASETS.txt file\n",
        "  with open(readme_file_path, 'r') as file:\n",
        "      existing_content = file.read()\n",
        "\n",
        "  # Combine the existing content and additional content\n",
        "  new_content = existing_content + additional_content\n",
        "\n",
        "  # Write the updated content back to the README-DATASETS.txt file\n",
        "  with open(readme_file_path, 'w') as file:\n",
        "      file.write(new_content)\n",
        "\n",
        "  print(\"README-DATASETS.txt file updated successfully!\")"
      ]
    },
    {
      "cell_type": "markdown",
      "source": [
        "# plot augmented data"
      ],
      "metadata": {
        "id": "d0L5AaxFHmsq"
      }
    },
    {
      "cell_type": "code",
      "source": [
        "def plot_balance(Y_data):\n",
        "\n",
        "  name = np.array(['A-Abuata', 'A-Afshari', 'A-Bayat-E Kord', 'A-Bayat-E Tork',\n",
        "                   'A-Bayat-e Esfahan', 'A-Dashti', 'D-Chahargah', 'D-Homayun',\n",
        "                   'D-Mahoor', 'D-Nava', 'D-Rastpanjgah', 'D-Segah', 'D-Shur'])\n",
        "\n",
        "  price = (np.unique(Y_data, return_counts=True))[1]\n",
        "  fig, ax = plt.subplots(figsize =(10, 7))\n",
        "\n",
        "  # Horizontal Bar Plot\n",
        "  ax.barh(name, price)\n",
        "\n",
        "  # Remove axes splines\n",
        "  for s in ['top', 'bottom', 'left', 'right']:\n",
        "      ax.spines[s].set_visible(False)\n",
        "\n",
        "  # Remove x, y Ticks\n",
        "  ax.xaxis.set_ticks_position('none')\n",
        "  ax.yaxis.set_ticks_position('none')\n",
        "\n",
        "  # Add padding between axes and labels\n",
        "  ax.xaxis.set_tick_params(pad = 5)\n",
        "  ax.yaxis.set_tick_params(pad = 10)\n",
        "\n",
        "  # Add x, y gridlines\n",
        "  ax.grid( color ='grey',\n",
        "          linestyle ='-.', linewidth = 0.5,\n",
        "          alpha = 0.2)\n",
        "\n",
        "  # Show top values\n",
        "  ax.invert_yaxis()\n",
        "\n",
        "  # Add annotation to bars\n",
        "  for i in ax.patches:\n",
        "      plt.text(i.get_width()+0.2, i.get_y()+0.5,\n",
        "              str(round((i.get_width()), 2)),\n",
        "              fontsize = 10, fontweight ='bold',\n",
        "              color ='grey')\n",
        "\n",
        "  # Add Plot Title\n",
        "  ax.set_title('albume genrs and their number',\n",
        "              loc ='left', )\n",
        "\n",
        "  # Show Plot\n",
        "  plt.show()"
      ],
      "metadata": {
        "id": "0JVU93YtHlrZ"
      },
      "execution_count": null,
      "outputs": []
    },
    {
      "cell_type": "markdown",
      "source": [
        "# data augmentation"
      ],
      "metadata": {
        "id": "baEg1T2NJwuv"
      }
    },
    {
      "cell_type": "code",
      "source": [
        "def data_augmentation(train_data, train_labels, num_augmentations=4):\n",
        "\n",
        "  # Lists to store augmented data and labels\n",
        "  augmented_data = []\n",
        "  augmented_labels = []\n",
        "\n",
        "  # Data augmentation using random noise\n",
        "  for sample, label in zip(train_data, train_labels):\n",
        "      augmented_samples = [sample + np.random.normal(scale=0.01, size=sample.shape) for _ in range(num_augmentations)]\n",
        "      augmented_labels.extend([label] * num_augmentations)  # Extend labels for augmented samples\n",
        "      augmented_data.extend(augmented_samples)\n",
        "\n",
        "  # Convert the lists of augmented data and labels back to NumPy arrays\n",
        "  augmented_data = np.array(augmented_data)\n",
        "  augmented_labels = np.array(augmented_labels)\n",
        "\n",
        "  # Concatenate the original train data and labels with the augmented data and labels\n",
        "  final_train_data = np.concatenate((train_data, augmented_data), axis=0)\n",
        "  final_train_labels = np.concatenate((train_labels, augmented_labels), axis=0)\n",
        "\n",
        "  # Now you have your final_train_data with augmented samples and the corresponding final_train_labels\n",
        "  print(final_train_data.shape)\n",
        "  print(final_train_labels.shape)\n",
        "\n",
        "  return augmented_data, augmented_labels"
      ],
      "metadata": {
        "id": "OJMgv3kkJvaL"
      },
      "execution_count": null,
      "outputs": []
    },
    {
      "cell_type": "markdown",
      "source": [
        "# calling methods"
      ],
      "metadata": {
        "id": "skmLnegMUUAX"
      }
    },
    {
      "cell_type": "code",
      "source": [
        "dataset_number =  \"9\"\n",
        "\n",
        "music_directories_list = ['drive/MyDrive/DDEMS Lab/Persian-Radif-Tar-Setar/cleaned/Setar-Hossein Alizzadeh-Mirza Abdullah',\n",
        "                          'drive/MyDrive/DDEMS Lab/Persian-Radif-Tar-Setar/cleaned/Tar-Arshad Tahmasebi-Mahmoud Karimi',\n",
        "                          'drive/MyDrive/DDEMS Lab/Persian-Radif-Tar-Setar/cleaned/Tar-Hossein Alizzadeh-Mirza Abdullah',\n",
        "                          ]\n",
        "# music_directories_list = ['drive/MyDrive/DDEMS Lab/Persian-Radif-Tar-Setar/cleaned/Setar-Hossein Alizzadeh-Mirza Abdullah']\n",
        "output_directory = f'drive/MyDrive/DDEMS Lab/Persian-Radif-Tar-Setar/augmented/output{dataset_number}'\n",
        "\n",
        "\n",
        "folder_names = [ 'A-Abuata', 'A-Bayat-E Tork', 'D-Mahoor', 'D-Shur', 'A-Afshari',\n",
        "                 'A-Dashti', 'D-Nava', 'A-Bayat-e Esfahan', 'D-Chahargah', 'D-Rastpanjgah',\n",
        "                 'A-Bayat-E Kord', 'D-Homayun', 'D-Segah']\n",
        "\n",
        "window_duration = 5  # Duration of each window in seconds\n",
        "overlap = 0           # Amount of overlap between consecutive windows in seconds\n",
        "desired_sr = 22050    # Set the desired sample rate (e.g., 22050 Hz)\n",
        "\n",
        "# X_train, X_test, y_train, y_test, Y_data = get_windows(window_duration = window_duration,\n",
        "#                                                        overlap = overlap,\n",
        "#                                                desired_sr = desired_sr,\n",
        "#                                                music_directories_list= music_directories_list,\n",
        "#                                                dataset_number = dataset_number,\n",
        "#                                                save_as_mp3=False\n",
        "#                                                )\n",
        "\n",
        "X_train, X_test, y_train, y_test, Y_data = load_pickle(dataset_number)"
      ],
      "metadata": {
        "colab": {
          "base_uri": "https://localhost:8080/"
        },
        "id": "CAKKGHeKTjmx",
        "outputId": "c1d6a930-16bf-47fa-b704-ec59d7dc75ef"
      },
      "execution_count": null,
      "outputs": [
        {
          "output_type": "stream",
          "name": "stdout",
          "text": [
            "(7725, 110250) (1932, 110250) (7725,) (1932,) (9657,)\n"
          ]
        }
      ]
    },
    {
      "cell_type": "code",
      "source": [
        "plot_balance(Y_data)"
      ],
      "metadata": {
        "colab": {
          "base_uri": "https://localhost:8080/",
          "height": 624
        },
        "id": "qz6Qy-yhFxpo",
        "outputId": "7ae394df-cc67-4ab0-c6ac-a3f3296eaea5"
      },
      "execution_count": null,
      "outputs": [
        {
          "output_type": "display_data",
          "data": {
            "text/plain": [
              "<Figure size 1000x700 with 1 Axes>"
            ],
            "image/png": "[encoded data removed]"
          },
          "metadata": {}
        }
      ]
    },
    {
      "cell_type": "code",
      "source": [
        "\n",
        "X_train_aug, y_train_aug= data_augmentation(X_train, y_train,num_augmentations=6)"
      ],
      "metadata": {
        "id": "4WhkGfDD5-0o"
      },
      "execution_count": null,
      "outputs": []
    },
    {
      "cell_type": "code",
      "source": [
        "plot_balance(y_train_aug)"
      ],
      "metadata": {
        "id": "ciRnZ7eVGFad"
      },
      "execution_count": null,
      "outputs": []
    },
    {
      "cell_type": "code",
      "source": [
        "X_test_mfccs = audio2mfccs(X_test)\n",
        "del X_test\n",
        "X_train_mfccs = audio2mfccs(X_train)\n",
        "del X_train"
      ],
      "metadata": {
        "colab": {
          "base_uri": "https://localhost:8080/"
        },
        "id": "JDDd128qVVgH",
        "outputId": "1b7092c1-e87d-4f3d-8160-bdbcb5dd905d"
      },
      "execution_count": null,
      "outputs": [
        {
          "output_type": "stream",
          "name": "stdout",
          "text": [
            "Shape of MFCCs array: (1932, 13, 216)\n",
            "Shape of MFCCs array: (7725, 13, 216)\n"
          ]
        }
      ]
    },
    {
      "cell_type": "code",
      "source": [
        "# check_augmented(output_directory)\n",
        "concatenated_array = np.concatenate((y_train, y_test))\n",
        "print((np.unique(concatenated_array, return_counts=True))[0], '\\n', (np.unique(concatenated_array, return_counts=True))[1])\n",
        "plt.bar(range(13), (np.unique(concatenated_array, return_counts=True))[1])\n",
        "print(\"data counter : \", concatenated_array[0])"
      ],
      "metadata": {
        "colab": {
          "base_uri": "https://localhost:8080/",
          "height": 486
        },
        "id": "bZJbAuejfG_K",
        "outputId": "db1f2aee-c595-4628-8a07-46d37918a24b"
      },
      "execution_count": null,
      "outputs": [
        {
          "output_type": "stream",
          "name": "stdout",
          "text": [
            "[ 0  1  2  3  4  5  6  7  8  9 10 11 12] \n",
            " [ 541  153  280  288  501  386 1162  923 1531 1245  597  613 1437]\n",
            "data counter :  10\n"
          ]
        },
        {
          "output_type": "display_data",
          "data": {
            "text/plain": [
              "<Figure size 640x480 with 1 Axes>"
            ],
            "image/png": "[encoded data removed]"
          },
          "metadata": {}
        }
      ]
    },
    {
      "cell_type": "code",
      "source": [
        "plot_MFCC(X_train_mfccs)"
      ],
      "metadata": {
        "colab": {
          "base_uri": "https://localhost:8080/",
          "height": 383
        },
        "id": "nVlsnT5oVs6H",
        "outputId": "9268461e-660a-4b0f-cb9a-7753c9a15910"
      },
      "execution_count": null,
      "outputs": [
        {
          "output_type": "display_data",
          "data": {
            "text/plain": [
              "<Figure size 1000x400 with 2 Axes>"
            ],
            "image/png": "[encoded data removed]"
          },
          "metadata": {}
        }
      ]
    },
    {
      "cell_type": "code",
      "source": [
        "X_train_mfcc_reshaped, X_test_mfcc_reshaped = reshape_input(X_train_mfccs, X_test_mfccs)\n",
        "y_train_1hot, y_test_1hot = do_1hot_output(y_train, y_test)"
      ],
      "metadata": {
        "colab": {
          "base_uri": "https://localhost:8080/"
        },
        "id": "7oTHZ66_X7hs",
        "outputId": "96b2b17d-b98d-4d41-de44-f21f8292e52f"
      },
      "execution_count": null,
      "outputs": [
        {
          "output_type": "stream",
          "name": "stdout",
          "text": [
            "(7725, 13, 216) reshaped input:  (7725, 13, 216, 1)\n",
            "(1932, 13, 216) reshaped input:  (1932, 13, 216, 1)\n",
            "(7725,) (1932,)\n",
            "reshaped output: \n",
            "(7725, 13) (1932, 13)\n"
          ]
        }
      ]
    },
    {
      "cell_type": "code",
      "source": [
        "save_filterd_as_pickle(X_train_mfcc_reshaped, X_test_mfcc_reshaped,\n",
        "                       y_train_1hot, y_test_1hot, dataset_number, window_duration, overlap\n",
        "                       )"
      ],
      "metadata": {
        "colab": {
          "base_uri": "https://localhost:8080/"
        },
        "id": "vKF2fPy-adLb",
        "outputId": "bd2b8e43-ebf3-40f7-98f1-9f6a2d3dcf82"
      },
      "execution_count": null,
      "outputs": [
        {
          "output_type": "stream",
          "name": "stdout",
          "text": [
            "README-DATASETS.txt file updated successfully!\n"
          ]
        }
      ]
    },
    {
      "cell_type": "code",
      "source": [],
      "metadata": {
        "id": "3b2FDqy4alaS"
      },
      "execution_count": null,
      "outputs": []
    }
  ],
  "metadata": {
    "colab": {
      "provenance": [],
      "collapsed_sections": [
        "2aNjd2pL1jl_",
        "JCjoBoPYXnP2",
        "o6unJ2rLOYJd",
        "5yxAseWbnKTT",
        "FNa3rKISoiWv",
        "R649HQrBQPIn",
        "VA7-r35nWfi0",
        "mihm3B0RHVXJ",
        "8O1mkl2yTF5p",
        "Na8rrv09UAOw",
        "XCDB5PT6VKnK",
        "d0L5AaxFHmsq",
        "baEg1T2NJwuv"
      ]
    },
    "kernelspec": {
      "display_name": "Python 3",
      "name": "python3"
    },
    "language_info": {
      "name": "python"
    }
  },
  "nbformat": 4,
  "nbformat_minor": 0
}